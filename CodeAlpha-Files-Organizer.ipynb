{
 "cells": [
  {
   "cell_type": "markdown",
   "id": "d9a5a715-6ab7-45db-8ea9-73f970d8bb29",
   "metadata": {},
   "source": [
    "**\"import os\" library provides functions to interact with the operating system.**\n",
    " **\"import shutil library provides functions for high-level file operations like copying and moving files.**"
   ]
  },
  {
   "cell_type": "code",
   "execution_count": 1,
   "id": "511e023b-0779-4328-8961-6f4a9125e02c",
   "metadata": {},
   "outputs": [
    {
     "name": "stdout",
     "output_type": "stream",
     "text": [
      "Files have been organized.\n"
     ]
    }
   ],
   "source": [
    "import os \n",
    "import shutil "
   ]
  },
  {
   "cell_type": "markdown",
   "id": "fa785d92-5789-40f3-94a3-4cd7dbb5f303",
   "metadata": {},
   "source": [
    "**Specifies the folder you want to organize.**"
   ]
  },
  {
   "cell_type": "code",
   "execution_count": 7,
   "id": "241ea0c3-5793-426e-a802-d47781fdef56",
   "metadata": {},
   "outputs": [],
   "source": [
    "download_folder = r'C:\\Users\\Chickna\\Downloads' "
   ]
  },
  {
   "cell_type": "markdown",
   "id": "e4cf3f4b-7520-425f-b2d6-9fab0f5ef422",
   "metadata": {},
   "source": [
    " **List all files in the directory & This line creates a list of all files in the download_folder**"
   ]
  },
  {
   "cell_type": "code",
   "execution_count": null,
   "id": "d1f541c6-6f36-4666-a3a4-286a759c9365",
   "metadata": {},
   "outputs": [],
   "source": [
    "files = [f for f in os.listdir(download_folder) if os.path.isfile(os.path.join(download_folder, f))]"
   ]
  },
  {
   "cell_type": "markdown",
   "id": "0cbdea64-cc1a-4d73-b42c-cdc4c7c82571",
   "metadata": {},
   "source": [
    "**This Define a function to get the file extension & returns the file extension without the leading dot.**"
   ]
  },
  {
   "cell_type": "code",
   "execution_count": 4,
   "id": "25b1d282-b93b-4993-8d76-858b50c271b8",
   "metadata": {},
   "outputs": [],
   "source": [
    "def get_extension(file_name): \n",
    "    return os.path.splitext(file_name)[1][1:]  "
   ]
  },
  {
   "cell_type": "markdown",
   "id": "c4c6283f-7caf-45aa-a7ba-44510a86a5f2",
   "metadata": {},
   "source": [
    "**This is Loop through each file and organize them into folders by extension, than get the file extension, than defines the path for the new folder based on the file extension, than create the folder if it does not exist & than move the file to the corresponding folder.**"
   ]
  },
  {
   "cell_type": "code",
   "execution_count": 5,
   "id": "ae341588-84c8-4f54-8549-3ac3d21a560c",
   "metadata": {},
   "outputs": [],
   "source": [
    "for file in files: \n",
    "    ext = get_extension(file) \n",
    "    folder_path = os.path.join(download_folder, ext + '_files') \n",
    "    if not os.path.exists(folder_path): \n",
    "        os.makedirs(folder_path)\n",
    "    \n",
    "    shutil.move(os.path.join(download_folder, file), os.path.join(folder_path, file)) "
   ]
  },
  {
   "cell_type": "markdown",
   "id": "1813ca0e-481d-47f4-bce1-f493e68427c2",
   "metadata": {},
   "source": [
    "**Print a message when done.**"
   ]
  },
  {
   "cell_type": "code",
   "execution_count": 10,
   "id": "82f8560a-f9ca-41a6-95dc-fdf9552cb8b3",
   "metadata": {},
   "outputs": [
    {
     "name": "stdout",
     "output_type": "stream",
     "text": [
      "Files have been organized.\n"
     ]
    }
   ],
   "source": [
    "print(\"Files have been organized.\") "
   ]
  }
 ],
 "metadata": {
  "kernelspec": {
   "display_name": "Python 3 (ipykernel)",
   "language": "python",
   "name": "python3"
  },
  "language_info": {
   "codemirror_mode": {
    "name": "ipython",
    "version": 3
   },
   "file_extension": ".py",
   "mimetype": "text/x-python",
   "name": "python",
   "nbconvert_exporter": "python",
   "pygments_lexer": "ipython3",
   "version": "3.12.3"
  }
 },
 "nbformat": 4,
 "nbformat_minor": 5
}
